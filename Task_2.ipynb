{
 "cells": [
  {
   "cell_type": "markdown",
   "metadata": {},
   "source": [
    "# Задание 2.\n",
    "\n",
    "**NB. Все упражнения ниже нужно делать без использования циклов Python в явном (`while`, `for`) и неявном виде (list comprehension, `map`, `reduce` и пр)**\n",
    "\n",
    "Задания по манипуляциям с массивами чаще всего решаются в одно/два выражения. "
   ]
  },
  {
   "cell_type": "code",
   "execution_count": 77,
   "metadata": {},
   "outputs": [
    {
     "data": {
      "text/plain": [
       "array([[ 8, 24, 67, ..., 63, 53, 27],\n",
       "       [56, 30, 48, ..., 94, 98, 42],\n",
       "       [84, 95, 76, ...,  8, 89, 72],\n",
       "       ...,\n",
       "       [80, 89, 97, ..., 75,  5, 64],\n",
       "       [24, 95, 35, ..., 17, 56, 27],\n",
       "       [99, 53, 77, ..., 49, 54, 43]])"
      ]
     },
     "execution_count": 77,
     "metadata": {},
     "output_type": "execute_result"
    }
   ],
   "source": [
    "%matplotlib inline\n",
    "#%pip install seaborn\n",
    "\n",
    "import numpy as np\n",
    "import matplotlib.pyplot as plt\n",
    "import seaborn as sns\n",
    "sns.set_theme()\n",
    "\n",
    "np.random.seed(100)\n",
    "A = np.random.randint(0, 100, size=(200, 50))\n",
    "A"
   ]
  },
  {
   "cell_type": "markdown",
   "metadata": {},
   "source": [
    "# Задание 2.1 (2 балла)\n",
    "\n",
    "Сгенерируйте новый массив, в котором столбцы массива `A` переставлены в случайном порядке"
   ]
  },
  {
   "cell_type": "code",
   "execution_count": 59,
   "metadata": {},
   "outputs": [
    {
     "data": {
      "text/plain": [
       "array([[14, 98, 19, ..., 94, 24,  2],\n",
       "       [48, 86, 38, ..., 71, 30, 83],\n",
       "       [12, 10, 20, ..., 95, 95,  6],\n",
       "       ...,\n",
       "       [72, 21,  2, ..., 32, 89, 79],\n",
       "       [47, 26, 70, ..., 82, 95, 40],\n",
       "       [13, 21, 31, ...,  7, 53, 68]])"
      ]
     },
     "execution_count": 59,
     "metadata": {},
     "output_type": "execute_result"
    }
   ],
   "source": [
    "# small_A = np.array([[1,2,3],[1,2,3],[1,2,3],[1,2,3]])\n",
    "new_A = np.random.permutation(A.T).T\n",
    "new_A"
   ]
  },
  {
   "cell_type": "markdown",
   "metadata": {},
   "source": [
    "# Задание 2.2 (5 баллов)\n",
    "\n",
    "Сгенерируйте новый массив, который содержит только те строки массива `A`, в которых: \n",
    "- сумма элементов по четным столбцам (индексы $0, 2, \\ldots$) больше среднего значения (по всему массиву) суммы элементов по нечетным столбцам (индексы $1, 3, \\ldots$) "
   ]
  },
  {
   "cell_type": "code",
   "execution_count": 60,
   "metadata": {},
   "outputs": [
    {
     "data": {
      "text/plain": [
       "array([[ 8, 24, 67, ..., 63, 53, 27],\n",
       "       [56, 30, 48, ..., 94, 98, 42],\n",
       "       [84, 95, 76, ...,  8, 89, 72],\n",
       "       ...,\n",
       "       [80, 89, 97, ..., 75,  5, 64],\n",
       "       [24, 95, 35, ..., 17, 56, 27],\n",
       "       [99, 53, 77, ..., 49, 54, 43]])"
      ]
     },
     "execution_count": 60,
     "metadata": {},
     "output_type": "execute_result"
    }
   ],
   "source": [
    "new_A = A[A[:,0::2].sum(axis = 1) > A[:,1::2].mean()]\n",
    "new_A"
   ]
  },
  {
   "cell_type": "markdown",
   "metadata": {},
   "source": [
    "# Задача 2.3 (3 балла)\n",
    "\n",
    "Найдите индекс строки массива `A`, в которой разница между максимальным и минимальным элементом максимальна"
   ]
  },
  {
   "cell_type": "code",
   "execution_count": 61,
   "metadata": {},
   "outputs": [
    {
     "data": {
      "text/plain": [
       "8"
      ]
     },
     "execution_count": 61,
     "metadata": {},
     "output_type": "execute_result"
    }
   ],
   "source": [
    "np.argmax(A.max(axis = 1) - A.min(axis = 1))"
   ]
  },
  {
   "cell_type": "markdown",
   "metadata": {},
   "source": [
    "# Задание 2.4 (7 баллов)\n",
    "\n",
    "Сгенерируйте массив той же размерности, что и `A`, но в котором каждый элемент заменен на его порядковый номер (начиная с 1) в отсортированном по возрастанию массиве из элементов `A`\n",
    "\n",
    "Если `A` выглядит так:\n",
    "$$\n",
    "\\begin{pmatrix}\n",
    "12 & 14\\\\\n",
    "1 & 2\n",
    "\\end{pmatrix}\n",
    "$$\n",
    "то результат должен быть\n",
    "$$\n",
    "\\begin{pmatrix}\n",
    "3 & 4\\\\\n",
    "1 & 2\n",
    "\\end{pmatrix}\n",
    "$$\n",
    "\n",
    "*Tip: рассмотрите возможность неоднократного применения [argsort()](https://numpy.org/doc/stable/reference/generated/numpy.ndarray.argsort.html)*"
   ]
  },
  {
   "cell_type": "code",
   "execution_count": 62,
   "metadata": {},
   "outputs": [
    {
     "data": {
      "text/plain": [
       "array([[ 852, 2424, 6686, ..., 6284, 5301, 2708],\n",
       "       [5596, 2957, 4807, ..., 9448, 9831, 4243],\n",
       "       [8435, 9534, 7654, ...,  869, 8937, 7280],\n",
       "       ...,\n",
       "       [7993, 8980, 9739, ..., 7529,  599, 6411],\n",
       "       [2404, 9575, 3509, ..., 1725, 5613, 2668],\n",
       "       [9912, 5305, 7728, ..., 4887, 5381, 4325]], dtype=int64)"
      ]
     },
     "execution_count": 62,
     "metadata": {},
     "output_type": "execute_result"
    }
   ],
   "source": [
    "new_A = np.argsort(np.argsort(A, axis=None)).reshape(A.shape) + 1\n",
    "new_A"
   ]
  },
  {
   "cell_type": "markdown",
   "metadata": {},
   "source": [
    "# Задание 2.5 (2 балла)\n",
    "\n",
    "Примените $\\min-\\max$ - нормализацию к строкам массива `A`. То есть нужно получить новый массивы, в каждой строке которого максимальный элементы равен $1$, минимальный - $0$. "
   ]
  },
  {
   "cell_type": "code",
   "execution_count": 63,
   "metadata": {},
   "outputs": [
    {
     "data": {
      "text/plain": [
       "array([[0. , 0.5, 1. ],\n",
       "       [0. , 0.5, 1. ],\n",
       "       [1. , 0. , 0. ],\n",
       "       [0. , 0.5, 1. ]])"
      ]
     },
     "execution_count": 63,
     "metadata": {},
     "output_type": "execute_result"
    }
   ],
   "source": [
    "s = np.array([[1,2,3],[1,2,3],[5,3,3],[1,2,3]])\n",
    "new_A = (s - s.min(axis = 1).reshape(-1,1)) / (s.max(axis = 1).reshape(-1,1) - s.min(axis = 1).reshape(-1,1))\n",
    "new_A"
   ]
  },
  {
   "cell_type": "markdown",
   "metadata": {},
   "source": [
    "# Задание 2.6 (2 балла)\n",
    "\n",
    "Сгенерируйте новый трехмерный массив, размерности $10 \\times 200 \\times 50$. Подмассивы по нулевой оси должны состоять из элементов `A`, умноженных на $1 - 10$ соответственно"
   ]
  },
  {
   "cell_type": "code",
   "execution_count": 64,
   "metadata": {},
   "outputs": [
    {
     "name": "stdout",
     "output_type": "stream",
     "text": [
      "(10, 200, 50)\n"
     ]
    },
    {
     "data": {
      "text/plain": [
       "array([[[  8,  24,  67, ...,  63,  53,  27],\n",
       "        [ 56,  30,  48, ...,  94,  98,  42],\n",
       "        [ 84,  95,  76, ...,   8,  89,  72],\n",
       "        ...,\n",
       "        [ 80,  89,  97, ...,  75,   5,  64],\n",
       "        [ 24,  95,  35, ...,  17,  56,  27],\n",
       "        [ 99,  53,  77, ...,  49,  54,  43]],\n",
       "\n",
       "       [[ 16,  48, 134, ..., 126, 106,  54],\n",
       "        [112,  60,  96, ..., 188, 196,  84],\n",
       "        [168, 190, 152, ...,  16, 178, 144],\n",
       "        ...,\n",
       "        [160, 178, 194, ..., 150,  10, 128],\n",
       "        [ 48, 190,  70, ...,  34, 112,  54],\n",
       "        [198, 106, 154, ...,  98, 108,  86]],\n",
       "\n",
       "       [[ 24,  72, 201, ..., 189, 159,  81],\n",
       "        [168,  90, 144, ..., 282, 294, 126],\n",
       "        [252, 285, 228, ...,  24, 267, 216],\n",
       "        ...,\n",
       "        [240, 267, 291, ..., 225,  15, 192],\n",
       "        [ 72, 285, 105, ...,  51, 168,  81],\n",
       "        [297, 159, 231, ..., 147, 162, 129]],\n",
       "\n",
       "       ...,\n",
       "\n",
       "       [[ 64, 192, 536, ..., 504, 424, 216],\n",
       "        [448, 240, 384, ..., 752, 784, 336],\n",
       "        [672, 760, 608, ...,  64, 712, 576],\n",
       "        ...,\n",
       "        [640, 712, 776, ..., 600,  40, 512],\n",
       "        [192, 760, 280, ..., 136, 448, 216],\n",
       "        [792, 424, 616, ..., 392, 432, 344]],\n",
       "\n",
       "       [[ 72, 216, 603, ..., 567, 477, 243],\n",
       "        [504, 270, 432, ..., 846, 882, 378],\n",
       "        [756, 855, 684, ...,  72, 801, 648],\n",
       "        ...,\n",
       "        [720, 801, 873, ..., 675,  45, 576],\n",
       "        [216, 855, 315, ..., 153, 504, 243],\n",
       "        [891, 477, 693, ..., 441, 486, 387]],\n",
       "\n",
       "       [[ 80, 240, 670, ..., 630, 530, 270],\n",
       "        [560, 300, 480, ..., 940, 980, 420],\n",
       "        [840, 950, 760, ...,  80, 890, 720],\n",
       "        ...,\n",
       "        [800, 890, 970, ..., 750,  50, 640],\n",
       "        [240, 950, 350, ..., 170, 560, 270],\n",
       "        [990, 530, 770, ..., 490, 540, 430]]])"
      ]
     },
     "execution_count": 64,
     "metadata": {},
     "output_type": "execute_result"
    }
   ],
   "source": [
    "base = A.reshape(1, *A.shape)\n",
    "new_A = np.concatenate((base, 2*base, 3*base, 4*base, 5*base, 6*base, 7*base, 8*base, 9*base, 10*base))\n",
    "print(new_A.shape)\n",
    "new_A"
   ]
  },
  {
   "cell_type": "markdown",
   "metadata": {},
   "source": [
    "# Задание 2.7 (2 балла)\n",
    "\n",
    "Создайте новый массив, такой же размерности, как и `A`, в котором сначала сгруппированы четные столбцы `A`, потом  нечетные. Используйте [np.concat()](https://numpy.org/doc/stable/reference/generated/numpy.concatenate.html) "
   ]
  },
  {
   "cell_type": "code",
   "execution_count": 65,
   "metadata": {},
   "outputs": [
    {
     "data": {
      "text/plain": [
       "array([[ 8, 67, 79, ..., 19, 63, 27],\n",
       "       [56, 48, 39, ..., 38, 94, 42],\n",
       "       [84, 76, 58, ..., 20,  8, 72],\n",
       "       ...,\n",
       "       [80, 97,  4, ...,  2, 75, 64],\n",
       "       [24, 35, 79, ..., 70, 17, 27],\n",
       "       [99, 77, 65, ..., 31, 49, 43]])"
      ]
     },
     "execution_count": 65,
     "metadata": {},
     "output_type": "execute_result"
    }
   ],
   "source": [
    "new_A = np.concatenate((A[:,0::2], A[:,1::2]), axis = 1)\n",
    "new_A"
   ]
  },
  {
   "cell_type": "markdown",
   "metadata": {},
   "source": [
    "# Задание 2.8 (2 балла)\n",
    "\n",
    "Посчитайте количество строк массива `A`, в который все элементы больше 5. Используйте [np.all()](https://numpy.org/doc/stable/reference/generated/numpy.all.html) "
   ]
  },
  {
   "cell_type": "code",
   "execution_count": 66,
   "metadata": {},
   "outputs": [
    {
     "data": {
      "text/plain": [
       "9"
      ]
     },
     "execution_count": 66,
     "metadata": {},
     "output_type": "execute_result"
    }
   ],
   "source": [
    "len(A[np.all(A > 5, axis = 1)])"
   ]
  },
  {
   "cell_type": "markdown",
   "metadata": {},
   "source": [
    "# Задание 2.9 (2 балла)\n",
    "\n",
    "Поделите массив `A` горизонтально на 10 частей и создайте новый массив размерности $20 \\times 50$, который является средним этих частей. Используйте [np.split()](https://numpy.org/doc/stable/reference/generated/numpy.split.html)"
   ]
  },
  {
   "cell_type": "code",
   "execution_count": 67,
   "metadata": {},
   "outputs": [
    {
     "name": "stdout",
     "output_type": "stream",
     "text": [
      "(20, 50)\n"
     ]
    },
    {
     "data": {
      "text/plain": [
       "array([[42.2, 42.4, 49.5, 69.2, 51.5, 53.9, 41.9, 47.8, 63.8, 46.4, 50.9,\n",
       "        65.7, 59.2, 41.5, 44.3, 55.2, 57.7, 72.4, 48.4, 46.5, 49.2, 61.5,\n",
       "        46.3, 36.5, 62.7, 42. , 57.4, 48.7, 61.3, 63.6, 57.6, 65.9, 50. ,\n",
       "        46.5, 48.7, 49.7, 54.8, 59.9, 65.5, 40.6, 42.5, 37.8, 62.7, 41.1,\n",
       "        40.5, 49.2, 42.4, 64. , 55.9, 35.7],\n",
       "       [52.8, 44.1, 50.6, 57.7, 35.8, 68.8, 40.5, 60. , 47. , 43.3, 52. ,\n",
       "        41.7, 42.9, 47.9, 54.5, 50.9, 52.6, 34.7, 62.8, 56.2, 59.2, 41. ,\n",
       "        31.6, 69.8, 46.4, 34. , 49.3, 38.5, 51.6, 45.2, 52.8, 58.1, 37.6,\n",
       "        52. , 41. , 47.9, 66.9, 35.3, 25.1, 45.8, 57.3, 48.5, 49.2, 52.6,\n",
       "        56. , 40.1, 49.8, 65.3, 50.5, 39.9],\n",
       "       [40.2, 48.4, 46.6, 53.9, 57.5, 56.7, 39.1, 31.5, 43. , 45.9, 41.8,\n",
       "        38. , 52.6, 51.2, 58.4, 44.1, 27.6, 30.6, 34.2, 54.8, 49.6, 50.8,\n",
       "        33.6, 54. , 60.4, 57.2, 69.5, 67.6, 54.3, 59.9, 42.3, 41.9, 41.5,\n",
       "        33.4, 59.5, 36.6, 48.5, 46.5, 44.8, 44.4, 60.4, 32.8, 56.8, 47.4,\n",
       "        57.3, 50.3, 47.9, 51.2, 43.6, 51.7],\n",
       "       [62.8, 61.8, 47.6, 63. , 46.5, 44.5, 63.7, 45.5, 56.7, 63.3, 54. ,\n",
       "        45.7, 40.5, 44.3, 55.3, 57.5, 29.2, 53.9, 53.5, 67.4, 71.1, 37.9,\n",
       "        48.3, 37. , 39.1, 65.6, 46.4, 46.8, 56.4, 44.4, 35.3, 39.8, 40.4,\n",
       "        68.7, 31.4, 56.2, 42.7, 34.8, 50.8, 55.9, 49.9, 41.7, 57.4, 44.6,\n",
       "        33.8, 54.1, 38.4, 57.8, 50.3, 48. ],\n",
       "       [26. , 38. , 49.9, 47.2, 66.1, 53.3, 55.8, 60.8, 41.2, 35.6, 44. ,\n",
       "        48.4, 32.3, 49.4, 48.5, 60.5, 56.8, 41.5, 59.2, 41.1, 63.6, 44.1,\n",
       "        51.2, 32. , 49.7, 50.7, 38.3, 47. , 56.1, 62.1, 61.5, 51.9, 43.8,\n",
       "        74.3, 54.1, 41.2, 54.8, 50.3, 64.1, 43. , 40.2, 57.9, 33.8, 34.1,\n",
       "        44.3, 51.6, 63.6, 40.6, 51.7, 57.2],\n",
       "       [41.9, 51.4, 69.4, 44.3, 54.3, 72. , 64.1, 55.1, 61. , 58.9, 50.9,\n",
       "        62.8, 66.8, 28.9, 51.6, 45.8, 46.5, 40.8, 42.1, 59.5, 48.3, 40.8,\n",
       "        63. , 45.9, 43.8, 52.9, 41.7, 45.6, 72.3, 53.1, 47.4, 51.4, 53.4,\n",
       "        49.9, 44.6, 40.2, 63.3, 44.4, 48.3, 55. , 57.9, 33.5, 39.7, 51.2,\n",
       "        40.3, 50.2, 46.8, 46.4, 30.4, 57. ],\n",
       "       [58.4, 60.4, 44.9, 54.8, 47.9, 48.3, 33.5, 47.4, 62.2, 55.2, 67.3,\n",
       "        57.3, 45.2, 51.8, 49.5, 43.6, 38.5, 31.5, 65.5, 42.9, 47.3, 48.8,\n",
       "        44.1, 37.5, 34.8, 48. , 53.3, 50.2, 52.1, 42.8, 60. , 51.5, 46.4,\n",
       "        41.1, 37.2, 25.8, 48.8, 46.3, 59. , 45.3, 56.6, 52.5, 39. , 47.5,\n",
       "        34.1, 61.2, 52.8, 38.8, 70.8, 43.6],\n",
       "       [45.3, 62.7, 56.8, 67.8, 33.5, 41.2, 43.8, 57.9, 55. , 55.6, 35.4,\n",
       "        37.1, 44. , 43. , 55.6, 59.7, 50.2, 40.7, 57.9, 36.2, 52.2, 45.8,\n",
       "        54.7, 44.6, 38.7, 44.6, 52.4, 62.1, 68. , 51.4, 46. , 57.2, 38.6,\n",
       "        43.8, 38.8, 56.4, 61.5, 57.6, 57.2, 58.8, 54.3, 69.5, 46.4, 51.7,\n",
       "        35.6, 43.3, 48.8, 63.2, 52.8, 45.7],\n",
       "       [40. , 52. , 53.3, 55.8, 58.5, 58.5, 45. , 41.8, 42.5, 42.1, 59.9,\n",
       "        40.9, 54.1, 45.7, 65.6, 37. , 50.1, 61. , 60.9, 47.2, 42.6, 55.1,\n",
       "        59.1, 41.8, 40.7, 47.4, 44.3, 51.1, 53.1, 50.6, 44.6, 52.3, 44.4,\n",
       "        51. , 57.8, 43.3, 52.4, 46.3, 56.8, 45.1, 51.2, 52.1, 47.7, 50.6,\n",
       "        40.5, 49.7, 58.9, 54.2, 48.6, 49.8],\n",
       "       [33.6, 51.5, 45.8, 46.4, 52.2, 35.1, 44.8, 52.4, 46. , 40.9, 61.1,\n",
       "        50.5, 54.9, 46.1, 46.5, 38.9, 44.3, 48.8, 62. , 47.9, 27.5, 67.6,\n",
       "        56.6, 48. , 44.5, 53.1, 52.8, 32.5, 51. , 76.1, 49.8, 46.8, 34. ,\n",
       "        37.4, 62.8, 67. , 56. , 51.4, 59.9, 59.4, 32.8, 45.5, 42.9, 47.9,\n",
       "        58. , 55.4, 47.8, 36.3, 53.3, 54.5],\n",
       "       [63.1, 34.6, 31.1, 65.9, 37.2, 55.3, 56.3, 60.7, 45. , 44.1, 56.9,\n",
       "        38.7, 53.9, 43. , 39.3, 54.5, 32.6, 61. , 31.8, 55.7, 65.5, 54.7,\n",
       "        59.3, 65. , 48.7, 44.8, 59.4, 51. , 43.9, 40.4, 57.9, 47.2, 54.5,\n",
       "        52.7, 58.5, 38.8, 42.9, 55.5, 40.9, 32. , 34.3, 47.8, 58.9, 53.4,\n",
       "        54.8, 37.5, 36.2, 57.8, 55.9, 63.7],\n",
       "       [36.6, 56.2, 40.4, 40.6, 41.6, 48.5, 56.8, 49.5, 51.2, 54. , 61.4,\n",
       "        38.3, 38.4, 61.7, 54.8, 43.3, 62.2, 66.4, 51.6, 35.6, 41.6, 58.4,\n",
       "        45.9, 36.8, 57.4, 36.3, 56.4, 45.4, 59.6, 59.4, 62.5, 64.1, 43. ,\n",
       "        36.7, 64. , 50.6, 49.3, 60.8, 45.4, 64.9, 46.2, 37.7, 56.2, 37.9,\n",
       "        52.6, 57. , 42.3, 51. , 41.9, 57.2],\n",
       "       [49.4, 39. , 55.4, 34.5, 65.9, 50.3, 52.3, 55.2, 55.8, 45.6, 61.5,\n",
       "        44.7, 65. , 62.9, 59.5, 56.4, 46.9, 46.5, 61. , 42.5, 37.5, 53.5,\n",
       "        37.3, 44. , 47.6, 37.7, 41.8, 65.2, 75.8, 57.1, 51.2, 54.7, 41.2,\n",
       "        50.2, 42.2, 46.7, 41.3, 66. , 35.5, 57.9, 63.6, 55.8, 45.3, 45.5,\n",
       "        56.3, 42.1, 46.1, 46.5, 43.3, 49.1],\n",
       "       [37.7, 42.7, 53.6, 58.6, 42.9, 35.4, 47. , 46.6, 44.8, 60.4, 44.8,\n",
       "        66.7, 51.8, 58.1, 57.7, 43.8, 61. , 62.4, 46.1, 40.3, 63.3, 59.7,\n",
       "        45. , 50.9, 34. , 53.1, 45.3, 59.3, 64.1, 51.1, 51. , 44.7, 54.8,\n",
       "        40.1, 66.8, 42.9, 68.1, 39.8, 36.1, 46. , 32.8, 57.5, 32.6, 51.1,\n",
       "        40.1, 48. , 54.7, 34.1, 30.4, 43.4],\n",
       "       [39.8, 48.4, 42. , 40. , 32.6, 56.3, 66.2, 65.5, 52.5, 38.3, 40.1,\n",
       "        54. , 59.5, 51.1, 51.2, 57.2, 43.4, 50.7, 40.6, 51.8, 44.6, 53.8,\n",
       "        48.7, 57.7, 60.9, 46. , 53.2, 46.5, 54.6, 55.8, 46.7, 52.4, 53. ,\n",
       "        54.6, 53.6, 59.6, 40.4, 71.7, 41.5, 41. , 36.3, 53. , 65.3, 44.6,\n",
       "        58.6, 57.7, 53.8, 56.9, 35.8, 50.9],\n",
       "       [59.1, 44.1, 69.4, 50.3, 57.3, 56. , 50.6, 37. , 48.3, 48.1, 40.5,\n",
       "        40.3, 52.1, 49.2, 57.1, 48.8, 50.5, 49.2, 51.1, 45. , 50.9, 49.8,\n",
       "        41. , 49.5, 45.9, 59.2, 35.3, 46.1, 48. , 28.1, 52.6, 35.9, 54.6,\n",
       "        54.4, 37.7, 35.9, 41.9, 44.7, 51.5, 54.6, 70.1, 46.2, 60.2, 29.1,\n",
       "        49. , 37.7, 56. , 30.1, 45.7, 52.8],\n",
       "       [42. , 33.1, 49.3, 49.2, 37.9, 54.3, 51.8, 58.7, 40.7, 34.3, 56.7,\n",
       "        59.2, 43.4, 64.9, 47.5, 58.5, 64.3, 51.9, 48.8, 38.4, 56.5, 44.9,\n",
       "        37.2, 39. , 67.8, 48.1, 53.8, 55.6, 58.6, 45.4, 41.3, 57.4, 62.2,\n",
       "        57.7, 65.6, 61.9, 53.8, 62.7, 59.3, 55.1, 53.8, 49.4, 40.3, 58.6,\n",
       "        53.8, 43.1, 23.7, 35.9, 60.1, 34.2],\n",
       "       [52.6, 51.9, 55.9, 50.3, 22.2, 51.8, 49.4, 35.4, 53.5, 47.5, 40.2,\n",
       "        46.7, 40.2, 55.5, 50.4, 52.4, 52. , 53.8, 45.8, 68.9, 37.9, 56.7,\n",
       "        41.4, 58.5, 62.7, 47.1, 56.1, 43.8, 44.3, 46.9, 37.6, 46.3, 50.3,\n",
       "        63.3, 61. , 30.5, 36.8, 61.4, 48.6, 40.2, 58.7, 48.6, 39.7, 39.5,\n",
       "        39.3, 58.2, 45.2, 48.9, 36.5, 41. ],\n",
       "       [42.1, 62.2, 34.5, 51.8, 55. , 55.9, 43.9, 44.2, 60.4, 47. , 42.1,\n",
       "        56.7, 41.6, 47.2, 65.9, 44.8, 51.3, 71.3, 59. , 55.1, 62. , 52. ,\n",
       "        38.5, 52.2, 55.2, 60. , 43.9, 46.1, 49.4, 45. , 42. , 60.6, 54.3,\n",
       "        49.3, 44.1, 53.5, 59. , 42. , 48.5, 45.9, 36.1, 53.7, 65.4, 55.5,\n",
       "        56. , 48.2, 56.1, 65.6, 64.5, 49.7],\n",
       "       [44.9, 50.1, 54.6, 41.4, 44.8, 41.8, 49.6, 57.7, 52.9, 55.3, 46.3,\n",
       "        67. , 51.5, 66.4, 59. , 39.5, 54.1, 42.3, 54.5, 51.9, 57. , 48.6,\n",
       "        52.4, 62.1, 40.4, 41.2, 50.6, 50.8, 48. , 51.7, 59.7, 38.5, 57.8,\n",
       "        30.5, 47.8, 60.4, 57.8, 61.9, 31.8, 38.7, 57.8, 41.4, 36.3, 39.4,\n",
       "        50.2, 48.2, 51.6, 51.2, 49.2, 52.6]])"
      ]
     },
     "execution_count": 67,
     "metadata": {},
     "output_type": "execute_result"
    }
   ],
   "source": [
    "new_A = np.mean(np.split(A, 10), axis = 0)\n",
    "print(new_A.shape)\n",
    "new_A"
   ]
  },
  {
   "cell_type": "markdown",
   "metadata": {},
   "source": [
    "# Задание 2.10 (4 балла)\n",
    "\n",
    "\"Разверните\" массив `A` в одномерный массив. Оставьте в нём только уникальные элементы в том же порядке, в котором они встречаются в массиве. Используйте [np.unique()](https://numpy.org/doc/stable/reference/generated/numpy.unique.html)"
   ]
  },
  {
   "cell_type": "code",
   "execution_count": 68,
   "metadata": {},
   "outputs": [
    {
     "data": {
      "text/plain": [
       "array([ 8, 24, 67, 87, 79, 48, 10, 94, 52, 98, 53, 66, 14, 34, 15, 60, 58,\n",
       "       16,  9, 93, 86,  2, 27,  4, 31,  1, 13, 83, 91, 59,  7, 49, 47, 65,\n",
       "       61, 55, 71, 80, 19, 63, 56, 30, 39, 38, 44, 18, 64, 74, 17, 72, 68,\n",
       "       50, 78,  0, 57, 76,  3, 70, 84, 43, 36,  5, 42, 95, 33, 22, 62, 35,\n",
       "       23, 21, 25, 54,  6, 37, 51, 45, 89, 12, 82, 92, 20, 73, 90, 77, 40,\n",
       "       28, 96, 81, 11, 99, 29, 26, 85, 32, 41, 88, 46, 69, 75, 97])"
      ]
     },
     "execution_count": 68,
     "metadata": {},
     "output_type": "execute_result"
    }
   ],
   "source": [
    "_, ind = np.unique(A, return_index = True)\n",
    "new_A = A.reshape((1, -1))[0][np.sort(ind)]\n",
    "new_A"
   ]
  },
  {
   "cell_type": "markdown",
   "metadata": {},
   "source": [
    "# Задание 2.11 (3 балла)\n",
    "\n",
    "Создайте одномерный массив размерности $200$, в котором каждый элемент - евклидово расстояние между соответствующей строкой `A` и \"средней\" строкой `A`"
   ]
  },
  {
   "cell_type": "code",
   "execution_count": 69,
   "metadata": {},
   "outputs": [
    {
     "data": {
      "text/plain": [
       "array([224.67575231, 193.51639123, 203.7018745 , 226.40665554,\n",
       "       196.85264457, 196.52547844, 204.83225741, 190.35578183,\n",
       "       204.3090641 , 217.80919098, 214.46639288, 209.98017448,\n",
       "       187.61418836, 207.69719227, 205.63453911, 187.61029736,\n",
       "       201.43426639, 201.57818254, 213.76604893, 193.06665604,\n",
       "       199.98058324, 190.27368098, 198.158784  , 207.40854292,\n",
       "       209.26092247, 204.31016537, 193.75854478, 210.42880904,\n",
       "       200.07477021, 206.282776  , 188.39600228, 218.0238374 ,\n",
       "       196.13672189, 191.69317587, 196.22460008, 200.74629181,\n",
       "       218.32352982, 211.44922245, 210.27064387, 203.85817049,\n",
       "       184.38970599, 201.19752403, 212.50838495, 207.60138168,\n",
       "       168.54054015, 207.2534045 , 187.26201877, 196.78115681,\n",
       "       203.56022125, 217.25867917, 190.71655323, 191.36173514,\n",
       "       217.28732976, 194.58824136, 212.07961636, 211.11815098,\n",
       "       192.83693545, 206.30328081, 177.76302674, 200.28954959,\n",
       "       215.70890959, 193.40569711, 197.49699662, 218.32474362,\n",
       "       192.02172709, 203.8739897 , 212.96610922, 215.83823497,\n",
       "       168.40393011, 194.52784807, 238.54166025, 202.88233949,\n",
       "       197.75265782, 199.72742344, 187.19723202, 206.35184437,\n",
       "       186.75412626, 194.98711156, 203.94799257, 194.03469709,\n",
       "       216.44388112, 200.31091751, 214.14484275, 204.14537388,\n",
       "       202.58749634, 197.75490809, 177.10864935, 222.7546715 ,\n",
       "       201.25268613, 213.05659735, 202.58966823, 198.94603207,\n",
       "       193.51683047, 181.08885574, 210.48784686, 191.04597267,\n",
       "       204.25959873, 198.21348005, 206.83303333, 189.03579998,\n",
       "       186.62010523, 224.08474664, 215.59968385, 224.03797373,\n",
       "       211.98672995, 193.56255752, 192.07319874, 217.41412943,\n",
       "       211.03512427, 213.26228845, 210.8772953 , 185.8834142 ,\n",
       "       195.192914  , 216.65064891, 211.30232766, 213.02702569,\n",
       "       208.74861359, 206.32598885, 205.24759116, 188.13554602,\n",
       "       201.45975696, 182.25340511, 224.2331012 , 203.87266535,\n",
       "       227.369773  , 230.09138114, 198.38214051, 194.99462473,\n",
       "       200.72327637, 190.93882181, 187.62197013, 195.89954996,\n",
       "       185.13482567, 161.98322035, 187.75383798, 217.68944319,\n",
       "       187.24735959, 194.93910248, 185.20419454, 205.08681985,\n",
       "       197.16899775, 202.49435467, 194.07906552, 215.14068345,\n",
       "       218.06061927, 236.47241631, 218.89852369, 184.65276514,\n",
       "       202.69865238, 217.67290524, 184.43815678, 193.28156579,\n",
       "       185.58554274, 212.60050253, 201.61734468, 219.06438249,\n",
       "       213.69355085, 208.98189796, 204.77071   , 217.06421556,\n",
       "       188.52719612, 196.35369534, 207.76526099, 193.45207074,\n",
       "       181.07469087, 195.95888261, 195.89398581, 207.63673489,\n",
       "       204.72418928, 207.38506136, 225.0024526 , 192.59956821,\n",
       "       228.21078781, 185.08960985, 204.50846847, 196.36288772,\n",
       "       210.44206727, 192.52450149, 197.25879873, 205.72122806,\n",
       "       199.39386569, 219.66812166, 183.31566675, 211.69141143,\n",
       "       197.3837979 , 210.83634334, 200.89311505, 213.58158552,\n",
       "       199.41011427, 211.53128297, 211.10268514, 202.55340944,\n",
       "       206.86274115, 215.474601  , 206.00102833, 187.92629852,\n",
       "       216.53284664, 216.02088713, 214.42290847, 188.36091334])"
      ]
     },
     "execution_count": 69,
     "metadata": {},
     "output_type": "execute_result"
    }
   ],
   "source": [
    "np.linalg.norm(A - np.mean(A, axis = 0), axis = 1)"
   ]
  },
  {
   "cell_type": "markdown",
   "metadata": {},
   "source": [
    "# Задание 2.12 (2 балла)\n",
    "\n",
    "Создайте новый массив, который состоит из элементов `A`, измененных по следующим правилам:\n",
    "- если элемент меньше $50$, то он умножается на $2$\n",
    "- в противном случае он умножается на $3$\n",
    "\n",
    "Используйте [np.where()](https://numpy.org/doc/stable/reference/generated/numpy.where.html)"
   ]
  },
  {
   "cell_type": "code",
   "execution_count": 70,
   "metadata": {},
   "outputs": [
    {
     "data": {
      "text/plain": [
       "array([[ 16,  48, 201, ..., 189, 159,  54],\n",
       "       [168,  60,  96, ..., 282, 294,  84],\n",
       "       [252, 285, 228, ...,  16, 267, 216],\n",
       "       ...,\n",
       "       [240, 267, 291, ..., 225,  10, 192],\n",
       "       [ 48, 285,  70, ...,  34, 168,  54],\n",
       "       [297, 159, 231, ...,  98, 162,  86]])"
      ]
     },
     "execution_count": 70,
     "metadata": {},
     "output_type": "execute_result"
    }
   ],
   "source": [
    "new_A = np.where(A < 50, A * 2, A * 3)\n",
    "new_A"
   ]
  },
  {
   "cell_type": "markdown",
   "metadata": {},
   "source": [
    "# Задание 2.13 (7 баллов)\n",
    "\n",
    "Разверните массив `A` в одномерный массив. Создайте три новых массива, подсчитав скользящие средние по окнам $3$, $5$, $10$. Найдите сумму этих массивов, выровнив из размерности нулями справа\n",
    "\n",
    "*Tip: реализуйте функцию, которая считает скользящее среднее. Используйте [np.cumsum()](https://numpy.org/doc/stable/reference/generated/numpy.cumsum.html) или [np.convolve()](https://numpy.org/doc/stable/reference/generated/numpy.convolve.html)*"
   ]
  },
  {
   "cell_type": "code",
   "execution_count": 71,
   "metadata": {},
   "outputs": [
    {
     "name": "stdout",
     "output_type": "stream",
     "text": [
      "(9998,) (9998,)\n"
     ]
    },
    {
     "data": {
      "text/plain": [
       "array([142.7       , 181.53333333, 201.26666667, ...,  73.26666667,\n",
       "        41.33333333,  48.66666667])"
      ]
     },
     "execution_count": 71,
     "metadata": {},
     "output_type": "execute_result"
    }
   ],
   "source": [
    "flat_A = A.reshape((1, -1))[0]\n",
    "def moving_avg(x, n):\n",
    "    return np.convolve(x, np.ones(n)/n, mode='valid')\n",
    "m_avg_3 = moving_avg(flat_A, 3)\n",
    "m_avg_5 = moving_avg(flat_A, 5)\n",
    "m_avg_10 = moving_avg(flat_A, 10)\n",
    "m_avg_5 = np.concatenate((m_avg_5, np.zeros(m_avg_3.shape[0] - m_avg_5.shape[0])))\n",
    "m_avg_10 = np.concatenate((m_avg_10, np.zeros(m_avg_3.shape[0] - m_avg_10.shape[0])))\n",
    "sum = m_avg_3 + m_avg_5 + m_avg_10\n",
    "print(m_avg_3.shape, sum.shape)\n",
    "sum"
   ]
  },
  {
   "cell_type": "markdown",
   "metadata": {},
   "source": [
    "# Задание 2.14 (8 баллов)\n",
    "\n",
    "Постройте график функции $$f(x) = (5  \\sin(2x) - \\cos^2(x) - 1 + |x^3| - x^2) / (x^2 + 1)$$  \n",
    "\n",
    "и производной от этой функции.  Найдите минимум с помощью `scipy` и обозначьте его на графике. На этой же оси постройте графики скользящего среднего этой функции с окном $1$, $2$, $5$."
   ]
  },
  {
   "cell_type": "code",
   "execution_count": 72,
   "metadata": {},
   "outputs": [
    {
     "name": "stdout",
     "output_type": "stream",
     "text": [
      "Optimization terminated successfully.\n",
      "         Current function value: -4.882074\n",
      "         Iterations: 6\n",
      "         Function evaluations: 16\n",
      "         Gradient evaluations: 8\n"
     ]
    },
    {
     "data": {
      "image/png": "[encoded data removed]",
      "text/plain": [
       "<Figure size 640x480 with 1 Axes>"
      ]
     },
     "metadata": {},
     "output_type": "display_data"
    },
    {
     "data": {
      "image/png": "[encoded data removed]",
      "text/plain": [
       "<Figure size 640x480 with 1 Axes>"
      ]
     },
     "metadata": {},
     "output_type": "display_data"
    }
   ],
   "source": [
    "%matplotlib inline\n",
    "import scipy as sp\n",
    "from scipy.misc import derivative\n",
    "\n",
    "def f(x):\n",
    "    return (5*np.sin(2*x) - np.cos(x)**2 - 1 + np.abs(x)**3 - x**2) / (x**2 + 1)\n",
    "\n",
    "def df(f, x):\n",
    "    return derivative(f, x)\n",
    "\n",
    "x = np.linspace(-4, 4, 150)\n",
    "y = f(x)\n",
    "dy = df(f, x)\n",
    "plt.plot(x, y, label='f(x)')\n",
    "plt.plot(x, dy, label='df(x)')\n",
    "\n",
    "res = sp.optimize.fmin_bfgs(f, 0, full_output=True)\n",
    "x_min, y_min = res[0][0], res[1]\n",
    "plt.plot(x_min, y_min, 'o', label=\"min\") \n",
    "plt.legend()\n",
    "plt.show()\n",
    "\n",
    "y1, y2, y5 = moving_avg(y, 1), moving_avg(y, 2), moving_avg(y, 5)\n",
    "plt.plot(x, y1, label=\"mov_avg 1\")\n",
    "plt.plot(x[:len(y2)], y2, label=\"mov_avg 2\")\n",
    "plt.plot(x[:len(y5)], y5, label=\"mov_avg 5\")\n",
    "\n",
    "\n",
    "plt.legend()\n",
    "plt.show()"
   ]
  },
  {
   "cell_type": "markdown",
   "metadata": {},
   "source": [
    "# Задание 2.15 (10 баллов)\n",
    "\n",
    "Есть следующий алгоритм семплинирования, на вход функции подается вектор из целых положительных чисел и число семплов."
   ]
  },
  {
   "cell_type": "code",
   "execution_count": 73,
   "metadata": {},
   "outputs": [
    {
     "data": {
      "text/plain": [
       "[4, 4, 0, 4, 0]"
      ]
     },
     "execution_count": 73,
     "metadata": {},
     "output_type": "execute_result"
    }
   ],
   "source": [
    "from typing import List \n",
    "\n",
    "def sample(x: List[int], c: int) -> List[int]:\n",
    "    assert len(x) > 0\n",
    "    \n",
    "    s = np.sum(x)\n",
    "    res = []\n",
    "    for _ in range(c):\n",
    "        val = s * np.random.random()\n",
    "        cur, idx = 0, 0        \n",
    "        while cur + x[idx] <= val:\n",
    "            cur += x[idx]\n",
    "            idx += 1\n",
    "            \n",
    "        res.append(idx)\n",
    "    return res\n",
    "\n",
    "            \n",
    "sample([50, 3, 1, 7, 20], 5)   "
   ]
  },
  {
   "cell_type": "markdown",
   "metadata": {},
   "source": [
    "Реализуйте данный алгоритм более оптимальным способом на массивах `numpy`, без использования циклов. Проверьте корректность и идентичность алгоритмов семплирования с помощью статистических тестов."
   ]
  },
  {
   "cell_type": "code",
   "execution_count": null,
   "metadata": {},
   "outputs": [],
   "source": []
  },
  {
   "cell_type": "markdown",
   "metadata": {},
   "source": [
    "# Задание 2.16 (5 баллов)\n",
    "\n",
    "Есть следующий алгоритм \"случайного блуждания\""
   ]
  },
  {
   "cell_type": "code",
   "execution_count": 74,
   "metadata": {},
   "outputs": [
    {
     "data": {
      "text/plain": [
       "1972"
      ]
     },
     "execution_count": 74,
     "metadata": {},
     "output_type": "execute_result"
    }
   ],
   "source": [
    "import random \n",
    "\n",
    "def walk(n: int):\n",
    "    cur_position = 0\n",
    "    for i in range(n):\n",
    "        cur_position += random.choice([-3, -1, 0, 2, 3])\n",
    "\n",
    "    return cur_position\n",
    "\n",
    "walk(10_000)"
   ]
  },
  {
   "cell_type": "markdown",
   "metadata": {},
   "source": [
    "Реализуйте более эффективную версию с помощью `numpy`, сравните производительность (используя, например, magic `timeit`). Воспользовавшись [kdeplot()](https://seaborn.pydata.org/generated/seaborn.kdeplot.html) или аналогами, постройте график распределения значений `walk(10_000)` на каком-то разумном числе запусков. "
   ]
  },
  {
   "cell_type": "code",
   "execution_count": 75,
   "metadata": {},
   "outputs": [
    {
     "name": "stderr",
     "output_type": "stream",
     "text": [
      "UsageError: %%timeit is a cell magic, but the cell body is empty. Did you mean the line magic %timeit (single %)?\n"
     ]
    }
   ],
   "source": [
    "%%timeit"
   ]
  },
  {
   "cell_type": "markdown",
   "metadata": {},
   "source": [
    "# Задание 2.17 (5 баллов)\n",
    "\n",
    "Имеется функция, которая проделывает достаточно странные манипуляции с массивом `numpy`"
   ]
  },
  {
   "cell_type": "code",
   "execution_count": 76,
   "metadata": {},
   "outputs": [
    {
     "data": {
      "text/plain": [
       "0.8130587606438753"
      ]
     },
     "execution_count": 76,
     "metadata": {},
     "output_type": "execute_result"
    }
   ],
   "source": [
    "import numpy.typing as npt\n",
    "\n",
    "def strange_conv(a: npt.NDArray[np.float64]) -> np.float64:\n",
    "    x = a.shape[0]\n",
    "    y = a.shape[1]\n",
    "\n",
    "    t = 1.\n",
    "    for y in range(y - 5):\n",
    "        for x in range(x - 3):\n",
    "            c = 1.5 * a[y+1, x+2] - a[y+5, x+3] * a[y, x] + 0.2 * a[y+4, x]\n",
    "            t = 0.2 * t + 0.8 * c\n",
    "\n",
    "    return t\n",
    "\n",
    "\n",
    "a = np.random.random((10000, 10000))\n",
    "strange_conv(a)\n"
   ]
  },
  {
   "cell_type": "markdown",
   "metadata": {},
   "source": [
    "Оптимизируйте данную функцию с помощью (2 на выбор):\n",
    "- [Numba](https://numba.pydata.org)\n",
    "- `Cython` (+5 баллов)\n",
    "- [Taichi](https://github.com/taichi-dev/taichi) (+5 баллов)\n",
    "- `Pythran `[[1]](https://pythran.readthedocs.io/en/latest/), [[2]](https://serge-sans-paille.github.io/pythran-stories/pythran-tutorial.html) (+2 балла)\n",
    "\n",
    "Сравните производительность."
   ]
  },
  {
   "cell_type": "code",
   "execution_count": null,
   "metadata": {},
   "outputs": [],
   "source": []
  }
 ],
 "metadata": {
  "kernelspec": {
   "display_name": "Python 3.10.4 64-bit",
   "language": "python",
   "name": "python3"
  },
  "language_info": {
   "codemirror_mode": {
    "name": "ipython",
    "version": 3
   },
   "file_extension": ".py",
   "mimetype": "text/x-python",
   "name": "python",
   "nbconvert_exporter": "python",
   "pygments_lexer": "ipython3",
   "version": "3.10.4"
  },
  "orig_nbformat": 4,
  "vscode": {
   "interpreter": {
    "hash": "d8a624bf1adbbaf933b0003c78f638b728874fee2c1556a8e12c023670791837"
   }
  }
 },
 "nbformat": 4,
 "nbformat_minor": 2
}
